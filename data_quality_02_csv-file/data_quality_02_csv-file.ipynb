{
 "cells": [
  {
   "cell_type": "markdown",
   "metadata": {},
   "source": [
    "1. Contexto efemero\n",
    "2. Validador com CSV\n",
    "3. Expectativas\n",
    "4. Salvamento do Expectation Suite\n",
    "5. Checkpoint\n",
    "6. Validating\n"
   ]
  },
  {
   "cell_type": "code",
   "execution_count": 1,
   "metadata": {},
   "outputs": [],
   "source": [
    "# Importing\n",
    "import pandas as pd\n",
    "import great_expectations as gx"
   ]
  },
  {
   "cell_type": "code",
   "execution_count": 2,
   "metadata": {},
   "outputs": [
    {
     "name": "stdout",
     "output_type": "stream",
     "text": [
      "<great_expectations.validator.validator.Validator object at 0x00000129740BF1F0>\n"
     ]
    }
   ],
   "source": [
    "# Repository Context\n",
    "context = gx.get_context()\n",
    "\n",
    "# Load file\n",
    "file_path = \"https://raw.githubusercontent.com/great-expectations/gx_tutorials/main/data/yellow_tripdata_sample_2019-01.csv\"\n",
    "validator = context.sources.pandas_default.read_csv(file_path)\n",
    "\n",
    "print(validator)"
   ]
  },
  {
   "cell_type": "code",
   "execution_count": 3,
   "metadata": {},
   "outputs": [
    {
     "data": {
      "application/vnd.jupyter.widget-view+json": {
       "model_id": "d9ee77b8afe9423fa745de872fb16710",
       "version_major": 2,
       "version_minor": 0
      },
      "text/plain": [
       "Calculating Metrics:   0%|          | 0/6 [00:00<?, ?it/s]"
      ]
     },
     "metadata": {},
     "output_type": "display_data"
    },
    {
     "name": "stdout",
     "output_type": "stream",
     "text": [
      "\n"
     ]
    },
    {
     "data": {
      "application/vnd.jupyter.widget-view+json": {
       "model_id": "549a8011682b4d1cb21a3319eb834890",
       "version_major": 2,
       "version_minor": 0
      },
      "text/plain": [
       "Generating Expectations:   0%|          | 0/1 [00:00<?, ?it/s]"
      ]
     },
     "metadata": {},
     "output_type": "display_data"
    },
    {
     "data": {
      "application/vnd.jupyter.widget-view+json": {
       "model_id": "be0b17162def4f16a9c17aa11112b459",
       "version_major": 2,
       "version_minor": 0
      },
      "text/plain": [
       "Calculating Metrics:   0%|          | 0/2 [00:00<?, ?it/s]"
      ]
     },
     "metadata": {},
     "output_type": "display_data"
    },
    {
     "data": {
      "application/vnd.jupyter.widget-view+json": {
       "model_id": "8d95db0e412e4d0c94a3665a49ce3680",
       "version_major": 2,
       "version_minor": 0
      },
      "text/plain": [
       "Calculating Metrics:   0%|          | 0/1 [00:00<?, ?it/s]"
      ]
     },
     "metadata": {},
     "output_type": "display_data"
    },
    {
     "data": {
      "application/vnd.jupyter.widget-view+json": {
       "model_id": "bc8793ac9c9e4609823954a432df5cc7",
       "version_major": 2,
       "version_minor": 0
      },
      "text/plain": [
       "Profiling Dataset:         0%|          | 0/1 [00:00<?, ?it/s]"
      ]
     },
     "metadata": {},
     "output_type": "display_data"
    },
    {
     "data": {
      "application/vnd.jupyter.widget-view+json": {
       "model_id": "9859786b2d4841e481574fd781a5f6dc",
       "version_major": 2,
       "version_minor": 0
      },
      "text/plain": [
       "Calculating Metrics:   0%|          | 0/4 [00:00<?, ?it/s]"
      ]
     },
     "metadata": {},
     "output_type": "display_data"
    },
    {
     "data": {
      "application/vnd.jupyter.widget-view+json": {
       "model_id": "11b8110117e94652b2b640de8f0f0142",
       "version_major": 2,
       "version_minor": 0
      },
      "text/plain": [
       "Calculating Metrics:   0%|          | 0/4 [00:00<?, ?it/s]"
      ]
     },
     "metadata": {},
     "output_type": "display_data"
    },
    {
     "data": {
      "application/vnd.jupyter.widget-view+json": {
       "model_id": "ad1820ad2cd2483db5bf26575d06c687",
       "version_major": 2,
       "version_minor": 0
      },
      "text/plain": [
       "Calculating Metrics:   0%|          | 0/8 [00:00<?, ?it/s]"
      ]
     },
     "metadata": {},
     "output_type": "display_data"
    }
   ],
   "source": [
    "# Expectations\n",
    "validator.expect_column_values_to_not_be_null(\"pickup_datetime\")\n",
    "validator.expect_column_values_to_be_between(\"passenger_count\", auto=True)\n",
    "validator.save_expectation_suite()"
   ]
  },
  {
   "cell_type": "code",
   "execution_count": 4,
   "metadata": {},
   "outputs": [
    {
     "data": {
      "text/plain": [
       "{\n",
       "  \"expectation_suite_name\": \"default\",\n",
       "  \"ge_cloud_id\": null,\n",
       "  \"expectations\": [\n",
       "    {\n",
       "      \"expectation_type\": \"expect_column_values_to_not_be_null\",\n",
       "      \"kwargs\": {\n",
       "        \"column\": \"pickup_datetime\"\n",
       "      },\n",
       "      \"meta\": {}\n",
       "    },\n",
       "    {\n",
       "      \"expectation_type\": \"expect_column_values_to_be_between\",\n",
       "      \"kwargs\": {\n",
       "        \"column\": \"passenger_count\",\n",
       "        \"min_value\": 1,\n",
       "        \"max_value\": 6,\n",
       "        \"mostly\": 1.0,\n",
       "        \"strict_min\": false,\n",
       "        \"strict_max\": false,\n",
       "        \"auto\": true\n",
       "      },\n",
       "      \"meta\": {\n",
       "        \"profiler_config\": {\n",
       "          \"class_name\": \"BaseRuleBasedProfiler\",\n",
       "          \"module_name\": \"great_expectations.rule_based_profiler.rule_based_profiler\",\n",
       "          \"name\": \"expect_column_values_to_be_between\",\n",
       "          \"config_version\": 1.0,\n",
       "          \"variables\": {},\n",
       "          \"rules\": [\n",
       "            {\n",
       "              \"domain_builder\": {\n",
       "                \"exclude_column_names\": null,\n",
       "                \"semantic_type_filter_module_name\": null,\n",
       "                \"include_column_name_suffixes\": null,\n",
       "                \"class_name\": \"ColumnDomainBuilder\",\n",
       "                \"include_column_names\": [\n",
       "                  \"passenger_count\"\n",
       "                ],\n",
       "                \"exclude_column_name_suffixes\": null,\n",
       "                \"module_name\": \"great_expectations.rule_based_profiler.domain_builder.column_domain_builder\",\n",
       "                \"include_semantic_types\": null,\n",
       "                \"semantic_type_filter_class_name\": null,\n",
       "                \"exclude_semantic_types\": null\n",
       "              },\n",
       "              \"parameter_builders\": [],\n",
       "              \"expectation_configuration_builders\": [\n",
       "                {\n",
       "                  \"expectation_type\": \"expect_column_values_to_be_between\",\n",
       "                  \"max_value\": \"$parameter.column_max_range_estimator.value[1]\",\n",
       "                  \"condition\": null,\n",
       "                  \"meta\": {\n",
       "                    \"profiler_details\": {\n",
       "                      \"column_min_range_estimator\": \"$parameter.column_min_range_estimator.details\",\n",
       "                      \"column_max_range_estimator\": \"$parameter.column_max_range_estimator.details\"\n",
       "                    }\n",
       "                  },\n",
       "                  \"class_name\": \"DefaultExpectationConfigurationBuilder\",\n",
       "                  \"validation_parameter_builder_configs\": [\n",
       "                    {\n",
       "                      \"estimator\": \"$variables.estimator\",\n",
       "                      \"reduce_scalar_metric\": true,\n",
       "                      \"include_estimator_samples_histogram_in_details\": \"$variables.include_estimator_samples_histogram_in_details\",\n",
       "                      \"replace_nan_with_zero\": true,\n",
       "                      \"module_name\": \"great_expectations.rule_based_profiler.parameter_builder\",\n",
       "                      \"metric_value_kwargs\": null,\n",
       "                      \"metric_multi_batch_parameter_builder_name\": null,\n",
       "                      \"class_name\": \"NumericMetricRangeMultiBatchParameterBuilder\",\n",
       "                      \"name\": \"column_min_range_estimator\",\n",
       "                      \"evaluation_parameter_builder_configs\": null,\n",
       "                      \"quantile_statistic_interpolation_method\": \"$variables.quantile_statistic_interpolation_method\",\n",
       "                      \"false_positive_rate\": \"$variables.false_positive_rate\",\n",
       "                      \"enforce_numeric_metric\": true,\n",
       "                      \"random_seed\": \"$variables.random_seed\",\n",
       "                      \"metric_domain_kwargs\": \"$domain.domain_kwargs\",\n",
       "                      \"quantile_bias_std_error_ratio_threshold\": \"$variables.quantile_bias_std_error_ratio_threshold\",\n",
       "                      \"truncate_values\": \"$variables.truncate_values\",\n",
       "                      \"n_resamples\": \"$variables.n_resamples\",\n",
       "                      \"metric_name\": \"column.min\",\n",
       "                      \"quantile_bias_correction\": \"$variables.quantile_bias_correction\",\n",
       "                      \"round_decimals\": \"$variables.round_decimals\"\n",
       "                    },\n",
       "                    {\n",
       "                      \"estimator\": \"$variables.estimator\",\n",
       "                      \"reduce_scalar_metric\": true,\n",
       "                      \"include_estimator_samples_histogram_in_details\": \"$variables.include_estimator_samples_histogram_in_details\",\n",
       "                      \"replace_nan_with_zero\": true,\n",
       "                      \"module_name\": \"great_expectations.rule_based_profiler.parameter_builder\",\n",
       "                      \"metric_value_kwargs\": null,\n",
       "                      \"metric_multi_batch_parameter_builder_name\": null,\n",
       "                      \"class_name\": \"NumericMetricRangeMultiBatchParameterBuilder\",\n",
       "                      \"name\": \"column_max_range_estimator\",\n",
       "                      \"evaluation_parameter_builder_configs\": null,\n",
       "                      \"quantile_statistic_interpolation_method\": \"$variables.quantile_statistic_interpolation_method\",\n",
       "                      \"false_positive_rate\": \"$variables.false_positive_rate\",\n",
       "                      \"enforce_numeric_metric\": true,\n",
       "                      \"random_seed\": \"$variables.random_seed\",\n",
       "                      \"metric_domain_kwargs\": \"$domain.domain_kwargs\",\n",
       "                      \"quantile_bias_std_error_ratio_threshold\": \"$variables.quantile_bias_std_error_ratio_threshold\",\n",
       "                      \"truncate_values\": \"$variables.truncate_values\",\n",
       "                      \"n_resamples\": \"$variables.n_resamples\",\n",
       "                      \"metric_name\": \"column.max\",\n",
       "                      \"quantile_bias_correction\": \"$variables.quantile_bias_correction\",\n",
       "                      \"round_decimals\": \"$variables.round_decimals\"\n",
       "                    }\n",
       "                  ],\n",
       "                  \"strict_min\": \"$variables.strict_min\",\n",
       "                  \"mostly\": \"$variables.mostly\",\n",
       "                  \"module_name\": \"great_expectations.rule_based_profiler.expectation_configuration_builder.default_expectation_configuration_builder\",\n",
       "                  \"min_value\": \"$parameter.column_min_range_estimator.value[0]\",\n",
       "                  \"column\": \"$domain.domain_kwargs.column\",\n",
       "                  \"strict_max\": \"$variables.strict_max\"\n",
       "                }\n",
       "              ],\n",
       "              \"variables\": {\n",
       "                \"mostly\": 1.0,\n",
       "                \"strict_min\": false,\n",
       "                \"strict_max\": false,\n",
       "                \"estimator\": \"exact\",\n",
       "                \"include_estimator_samples_histogram_in_details\": false,\n",
       "                \"truncate_values\": {\n",
       "                  \"lower_bound\": null,\n",
       "                  \"upper_bound\": null\n",
       "                },\n",
       "                \"round_decimals\": null\n",
       "              }\n",
       "            }\n",
       "          ]\n",
       "        }\n",
       "      }\n",
       "    }\n",
       "  ],\n",
       "  \"data_asset_type\": null,\n",
       "  \"meta\": {\n",
       "    \"great_expectations_version\": \"0.17.23\"\n",
       "  }\n",
       "}"
      ]
     },
     "execution_count": 4,
     "metadata": {},
     "output_type": "execute_result"
    }
   ],
   "source": [
    "# Expectation Suite\n",
    "validator.get_expectation_suite()"
   ]
  },
  {
   "cell_type": "code",
   "execution_count": 5,
   "metadata": {},
   "outputs": [
    {
     "data": {
      "application/vnd.jupyter.widget-view+json": {
       "model_id": "76d76803b6da49c9904497d5745c71ff",
       "version_major": 2,
       "version_minor": 0
      },
      "text/plain": [
       "Calculating Metrics:   0%|          | 0/15 [00:00<?, ?it/s]"
      ]
     },
     "metadata": {},
     "output_type": "display_data"
    }
   ],
   "source": [
    "# Checkpoint setup\n",
    "checkpoint = context.add_or_update_checkpoint(\n",
    "    name='my_quick_start',\n",
    "    validator=validator\n",
    ")\n",
    "\n",
    "# Validating\n",
    "checkpoint_result = checkpoint.run()"
   ]
  },
  {
   "cell_type": "code",
   "execution_count": 7,
   "metadata": {},
   "outputs": [
    {
     "data": {
      "text/plain": [
       "{\n",
       "  \"anonymous_usage_statistics\": {\n",
       "    \"usage_statistics_url\": \"https://stats.greatexpectations.io/great_expectations/v1/usage_statistics\",\n",
       "    \"enabled\": true,\n",
       "    \"data_context_id\": \"138c0e6a-82bb-4ed7-a431-c2e4ab02edce\",\n",
       "    \"explicit_url\": false,\n",
       "    \"explicit_id\": true\n",
       "  },\n",
       "  \"checkpoint_store_name\": \"checkpoint_store\",\n",
       "  \"config_version\": 3,\n",
       "  \"data_docs_sites\": {\n",
       "    \"local_site\": {\n",
       "      \"class_name\": \"SiteBuilder\",\n",
       "      \"show_how_to_buttons\": true,\n",
       "      \"store_backend\": {\n",
       "        \"class_name\": \"TupleFilesystemStoreBackend\",\n",
       "        \"base_directory\": \"C:\\\\Users\\\\RosaLux\\\\AppData\\\\Local\\\\Temp\\\\tmpg6jq7csc\"\n",
       "      },\n",
       "      \"site_index_builder\": {\n",
       "        \"class_name\": \"DefaultSiteIndexBuilder\"\n",
       "      }\n",
       "    }\n",
       "  },\n",
       "  \"datasources\": {},\n",
       "  \"evaluation_parameter_store_name\": \"evaluation_parameter_store\",\n",
       "  \"expectations_store_name\": \"expectations_store\",\n",
       "  \"fluent_datasources\": {},\n",
       "  \"include_rendered_content\": {\n",
       "    \"expectation_suite\": false,\n",
       "    \"globally\": false,\n",
       "    \"expectation_validation_result\": false\n",
       "  },\n",
       "  \"profiler_store_name\": \"profiler_store\",\n",
       "  \"stores\": {\n",
       "    \"expectations_store\": {\n",
       "      \"class_name\": \"ExpectationsStore\",\n",
       "      \"store_backend\": {\n",
       "        \"class_name\": \"InMemoryStoreBackend\"\n",
       "      }\n",
       "    },\n",
       "    \"validations_store\": {\n",
       "      \"class_name\": \"ValidationsStore\",\n",
       "      \"store_backend\": {\n",
       "        \"class_name\": \"InMemoryStoreBackend\"\n",
       "      }\n",
       "    },\n",
       "    \"evaluation_parameter_store\": {\n",
       "      \"class_name\": \"EvaluationParameterStore\"\n",
       "    },\n",
       "    \"checkpoint_store\": {\n",
       "      \"class_name\": \"CheckpointStore\",\n",
       "      \"store_backend\": {\n",
       "        \"class_name\": \"InMemoryStoreBackend\"\n",
       "      }\n",
       "    },\n",
       "    \"profiler_store\": {\n",
       "      \"class_name\": \"ProfilerStore\",\n",
       "      \"store_backend\": {\n",
       "        \"class_name\": \"InMemoryStoreBackend\"\n",
       "      }\n",
       "    }\n",
       "  },\n",
       "  \"validations_store_name\": \"validations_store\"\n",
       "}"
      ]
     },
     "execution_count": 7,
     "metadata": {},
     "output_type": "execute_result"
    }
   ],
   "source": [
    "context.get_config()"
   ]
  },
  {
   "cell_type": "code",
   "execution_count": null,
   "metadata": {},
   "outputs": [],
   "source": [
    "# View HTML\n",
    "context.view_validation_result(checkpoint_result)"
   ]
  },
  {
   "cell_type": "code",
   "execution_count": 8,
   "metadata": {},
   "outputs": [
    {
     "name": "stdout",
     "output_type": "stream",
     "text": [
      "Successfully migrated to FileDataContext!\n"
     ]
    }
   ],
   "source": [
    "context = context.convert_to_file_context()"
   ]
  },
  {
   "cell_type": "code",
   "execution_count": 9,
   "metadata": {},
   "outputs": [
    {
     "data": {
      "text/plain": [
       "{\n",
       "  \"anonymous_usage_statistics\": {\n",
       "    \"usage_statistics_url\": \"https://stats.greatexpectations.io/great_expectations/v1/usage_statistics\",\n",
       "    \"enabled\": true,\n",
       "    \"data_context_id\": \"9b69980f-6374-485b-b863-fe82c19bf48a\",\n",
       "    \"explicit_url\": false,\n",
       "    \"explicit_id\": true\n",
       "  },\n",
       "  \"checkpoint_store_name\": \"checkpoint_store\",\n",
       "  \"config_variables_file_path\": \"uncommitted/config_variables.yml\",\n",
       "  \"config_version\": 3.0,\n",
       "  \"data_docs_sites\": {\n",
       "    \"local_site\": {\n",
       "      \"class_name\": \"SiteBuilder\",\n",
       "      \"show_how_to_buttons\": true,\n",
       "      \"store_backend\": {\n",
       "        \"class_name\": \"TupleFilesystemStoreBackend\",\n",
       "        \"base_directory\": \"uncommitted\\\\data_docs\\\\local_site\"\n",
       "      },\n",
       "      \"site_index_builder\": {\n",
       "        \"class_name\": \"DefaultSiteIndexBuilder\"\n",
       "      }\n",
       "    }\n",
       "  },\n",
       "  \"datasources\": {},\n",
       "  \"evaluation_parameter_store_name\": \"evaluation_parameter_store\",\n",
       "  \"expectations_store_name\": \"expectations_store\",\n",
       "  \"fluent_datasources\": {\n",
       "    \"default_pandas_datasource\": {\n",
       "      \"type\": \"pandas\"\n",
       "    }\n",
       "  },\n",
       "  \"include_rendered_content\": {\n",
       "    \"expectation_suite\": false,\n",
       "    \"globally\": false,\n",
       "    \"expectation_validation_result\": false\n",
       "  },\n",
       "  \"plugins_directory\": \"plugins/\",\n",
       "  \"stores\": {\n",
       "    \"expectations_store\": {\n",
       "      \"class_name\": \"ExpectationsStore\",\n",
       "      \"store_backend\": {\n",
       "        \"class_name\": \"TupleFilesystemStoreBackend\",\n",
       "        \"base_directory\": \"expectations/\"\n",
       "      }\n",
       "    },\n",
       "    \"validations_store\": {\n",
       "      \"class_name\": \"ValidationsStore\",\n",
       "      \"store_backend\": {\n",
       "        \"class_name\": \"TupleFilesystemStoreBackend\",\n",
       "        \"base_directory\": \"uncommitted/validations/\"\n",
       "      }\n",
       "    },\n",
       "    \"evaluation_parameter_store\": {\n",
       "      \"class_name\": \"EvaluationParameterStore\"\n",
       "    },\n",
       "    \"checkpoint_store\": {\n",
       "      \"class_name\": \"CheckpointStore\",\n",
       "      \"store_backend\": {\n",
       "        \"class_name\": \"TupleFilesystemStoreBackend\",\n",
       "        \"suppress_store_backend_id\": true,\n",
       "        \"base_directory\": \"checkpoints/\"\n",
       "      }\n",
       "    },\n",
       "    \"profiler_store\": {\n",
       "      \"class_name\": \"ProfilerStore\",\n",
       "      \"store_backend\": {\n",
       "        \"class_name\": \"TupleFilesystemStoreBackend\",\n",
       "        \"suppress_store_backend_id\": true,\n",
       "        \"base_directory\": \"profilers/\"\n",
       "      }\n",
       "    }\n",
       "  },\n",
       "  \"validations_store_name\": \"validations_store\"\n",
       "}"
      ]
     },
     "execution_count": 9,
     "metadata": {},
     "output_type": "execute_result"
    }
   ],
   "source": [
    "context.get_config()"
   ]
  }
 ],
 "metadata": {
  "kernelspec": {
   "display_name": ".venv",
   "language": "python",
   "name": "python3"
  },
  "language_info": {
   "codemirror_mode": {
    "name": "ipython",
    "version": 3
   },
   "file_extension": ".py",
   "mimetype": "text/x-python",
   "name": "python",
   "nbconvert_exporter": "python",
   "pygments_lexer": "ipython3",
   "version": "3.10.7"
  }
 },
 "nbformat": 4,
 "nbformat_minor": 2
}
