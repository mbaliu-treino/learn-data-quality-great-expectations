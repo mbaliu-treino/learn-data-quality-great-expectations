{
 "cells": [
  {
   "cell_type": "markdown",
   "metadata": {},
   "source": [
    "1. Contexto efemero\n",
    "2. Validador com CSV\n",
    "3. Expectativas\n",
    "4. Salvamento do Expectation Suite\n",
    "5. Checkpoint\n",
    "6. Validating\n"
   ]
  },
  {
   "cell_type": "code",
   "execution_count": 1,
   "metadata": {},
   "outputs": [],
   "source": [
    "# Importing\n",
    "import pandas as pd\n",
    "import great_expectations as gx"
   ]
  },
  {
   "cell_type": "code",
   "execution_count": 2,
   "metadata": {},
   "outputs": [
    {
     "name": "stdout",
     "output_type": "stream",
     "text": [
      "<great_expectations.validator.validator.Validator object at 0x000002598F0316F0>\n"
     ]
    }
   ],
   "source": [
    "# Repository Context\n",
    "context = gx.get_context()\n",
    "\n",
    "# Load file\n",
    "file_path = \"https://raw.githubusercontent.com/great-expectations/gx_tutorials/main/data/yellow_tripdata_sample_2019-01.csv\"\n",
    "validator = context.sources.pandas_default.read_csv(file_path)\n",
    "\n",
    "print(validator)"
   ]
  },
  {
   "cell_type": "code",
   "execution_count": 6,
   "metadata": {},
   "outputs": [
    {
     "data": {
      "application/vnd.jupyter.widget-view+json": {
       "model_id": "8aed17d9121a434287394d4a1725b06e",
       "version_major": 2,
       "version_minor": 0
      },
      "text/plain": [
       "Calculating Metrics:   0%|          | 0/6 [00:00<?, ?it/s]"
      ]
     },
     "metadata": {},
     "output_type": "display_data"
    },
    {
     "name": "stdout",
     "output_type": "stream",
     "text": [
      "\n"
     ]
    },
    {
     "data": {
      "application/vnd.jupyter.widget-view+json": {
       "model_id": "aec6b9806f3b45b1b75ca34dfd7d94a7",
       "version_major": 2,
       "version_minor": 0
      },
      "text/plain": [
       "Generating Expectations:   0%|          | 0/1 [00:00<?, ?it/s]"
      ]
     },
     "metadata": {},
     "output_type": "display_data"
    },
    {
     "data": {
      "application/vnd.jupyter.widget-view+json": {
       "model_id": "8cbb10455fb445b58c60c5b5bcf2b1fd",
       "version_major": 2,
       "version_minor": 0
      },
      "text/plain": [
       "Calculating Metrics:   0%|          | 0/2 [00:00<?, ?it/s]"
      ]
     },
     "metadata": {},
     "output_type": "display_data"
    },
    {
     "data": {
      "application/vnd.jupyter.widget-view+json": {
       "model_id": "1262a0f9551c4506a68e9d539aa7af64",
       "version_major": 2,
       "version_minor": 0
      },
      "text/plain": [
       "Calculating Metrics:   0%|          | 0/1 [00:00<?, ?it/s]"
      ]
     },
     "metadata": {},
     "output_type": "display_data"
    },
    {
     "data": {
      "application/vnd.jupyter.widget-view+json": {
       "model_id": "08d29edf12b54326a1b59b27ecabbead",
       "version_major": 2,
       "version_minor": 0
      },
      "text/plain": [
       "Profiling Dataset:         0%|          | 0/1 [00:00<?, ?it/s]"
      ]
     },
     "metadata": {},
     "output_type": "display_data"
    },
    {
     "data": {
      "application/vnd.jupyter.widget-view+json": {
       "model_id": "785296e0d96a4d3b845e6090e4c7bc72",
       "version_major": 2,
       "version_minor": 0
      },
      "text/plain": [
       "Calculating Metrics:   0%|          | 0/4 [00:00<?, ?it/s]"
      ]
     },
     "metadata": {},
     "output_type": "display_data"
    },
    {
     "data": {
      "application/vnd.jupyter.widget-view+json": {
       "model_id": "155c484864a34b9e8ad0a089c4168811",
       "version_major": 2,
       "version_minor": 0
      },
      "text/plain": [
       "Calculating Metrics:   0%|          | 0/4 [00:00<?, ?it/s]"
      ]
     },
     "metadata": {},
     "output_type": "display_data"
    },
    {
     "data": {
      "application/vnd.jupyter.widget-view+json": {
       "model_id": "83861546c6344175abf44a92fad996f1",
       "version_major": 2,
       "version_minor": 0
      },
      "text/plain": [
       "Calculating Metrics:   0%|          | 0/8 [00:00<?, ?it/s]"
      ]
     },
     "metadata": {},
     "output_type": "display_data"
    }
   ],
   "source": [
    "# Expectations\n",
    "validator.expect_column_values_to_not_be_null(\"pickup_datetime\")\n",
    "validator.expect_column_values_to_be_between(\"passenger_count\", auto=True)\n",
    "validator.save_expectation_suite()"
   ]
  },
  {
   "cell_type": "code",
   "execution_count": 7,
   "metadata": {},
   "outputs": [
    {
     "data": {
      "text/plain": [
       "{\n",
       "  \"expectation_suite_name\": \"default\",\n",
       "  \"ge_cloud_id\": null,\n",
       "  \"expectations\": [\n",
       "    {\n",
       "      \"expectation_type\": \"expect_column_values_to_not_be_null\",\n",
       "      \"kwargs\": {\n",
       "        \"column\": \"pickup_datetime\"\n",
       "      },\n",
       "      \"meta\": {}\n",
       "    },\n",
       "    {\n",
       "      \"expectation_type\": \"expect_column_values_to_be_between\",\n",
       "      \"kwargs\": {\n",
       "        \"strict_max\": false,\n",
       "        \"column\": \"passenger_count\",\n",
       "        \"min_value\": 1,\n",
       "        \"mostly\": 1.0,\n",
       "        \"max_value\": 6,\n",
       "        \"strict_min\": false,\n",
       "        \"auto\": true\n",
       "      },\n",
       "      \"meta\": {\n",
       "        \"profiler_config\": {\n",
       "          \"class_name\": \"BaseRuleBasedProfiler\",\n",
       "          \"module_name\": \"great_expectations.rule_based_profiler.rule_based_profiler\",\n",
       "          \"name\": \"expect_column_values_to_be_between\",\n",
       "          \"config_version\": 1.0,\n",
       "          \"variables\": {},\n",
       "          \"rules\": [\n",
       "            {\n",
       "              \"domain_builder\": {\n",
       "                \"exclude_column_name_suffixes\": null,\n",
       "                \"include_column_name_suffixes\": null,\n",
       "                \"class_name\": \"ColumnDomainBuilder\",\n",
       "                \"include_column_names\": [\n",
       "                  \"passenger_count\"\n",
       "                ],\n",
       "                \"semantic_type_filter_class_name\": null,\n",
       "                \"module_name\": \"great_expectations.rule_based_profiler.domain_builder.column_domain_builder\",\n",
       "                \"semantic_type_filter_module_name\": null,\n",
       "                \"include_semantic_types\": null,\n",
       "                \"exclude_column_names\": null,\n",
       "                \"exclude_semantic_types\": null\n",
       "              },\n",
       "              \"parameter_builders\": [],\n",
       "              \"expectation_configuration_builders\": [\n",
       "                {\n",
       "                  \"validation_parameter_builder_configs\": [\n",
       "                    {\n",
       "                      \"enforce_numeric_metric\": true,\n",
       "                      \"quantile_bias_correction\": \"$variables.quantile_bias_correction\",\n",
       "                      \"replace_nan_with_zero\": true,\n",
       "                      \"quantile_bias_std_error_ratio_threshold\": \"$variables.quantile_bias_std_error_ratio_threshold\",\n",
       "                      \"random_seed\": \"$variables.random_seed\",\n",
       "                      \"round_decimals\": \"$variables.round_decimals\",\n",
       "                      \"metric_value_kwargs\": null,\n",
       "                      \"reduce_scalar_metric\": true,\n",
       "                      \"class_name\": \"NumericMetricRangeMultiBatchParameterBuilder\",\n",
       "                      \"estimator\": \"$variables.estimator\",\n",
       "                      \"module_name\": \"great_expectations.rule_based_profiler.parameter_builder\",\n",
       "                      \"metric_multi_batch_parameter_builder_name\": null,\n",
       "                      \"quantile_statistic_interpolation_method\": \"$variables.quantile_statistic_interpolation_method\",\n",
       "                      \"include_estimator_samples_histogram_in_details\": \"$variables.include_estimator_samples_histogram_in_details\",\n",
       "                      \"name\": \"column_min_range_estimator\",\n",
       "                      \"truncate_values\": \"$variables.truncate_values\",\n",
       "                      \"metric_name\": \"column.min\",\n",
       "                      \"n_resamples\": \"$variables.n_resamples\",\n",
       "                      \"evaluation_parameter_builder_configs\": null,\n",
       "                      \"false_positive_rate\": \"$variables.false_positive_rate\",\n",
       "                      \"metric_domain_kwargs\": \"$domain.domain_kwargs\"\n",
       "                    },\n",
       "                    {\n",
       "                      \"enforce_numeric_metric\": true,\n",
       "                      \"quantile_bias_correction\": \"$variables.quantile_bias_correction\",\n",
       "                      \"replace_nan_with_zero\": true,\n",
       "                      \"quantile_bias_std_error_ratio_threshold\": \"$variables.quantile_bias_std_error_ratio_threshold\",\n",
       "                      \"random_seed\": \"$variables.random_seed\",\n",
       "                      \"round_decimals\": \"$variables.round_decimals\",\n",
       "                      \"metric_value_kwargs\": null,\n",
       "                      \"reduce_scalar_metric\": true,\n",
       "                      \"class_name\": \"NumericMetricRangeMultiBatchParameterBuilder\",\n",
       "                      \"estimator\": \"$variables.estimator\",\n",
       "                      \"module_name\": \"great_expectations.rule_based_profiler.parameter_builder\",\n",
       "                      \"metric_multi_batch_parameter_builder_name\": null,\n",
       "                      \"quantile_statistic_interpolation_method\": \"$variables.quantile_statistic_interpolation_method\",\n",
       "                      \"include_estimator_samples_histogram_in_details\": \"$variables.include_estimator_samples_histogram_in_details\",\n",
       "                      \"name\": \"column_max_range_estimator\",\n",
       "                      \"truncate_values\": \"$variables.truncate_values\",\n",
       "                      \"metric_name\": \"column.max\",\n",
       "                      \"n_resamples\": \"$variables.n_resamples\",\n",
       "                      \"evaluation_parameter_builder_configs\": null,\n",
       "                      \"false_positive_rate\": \"$variables.false_positive_rate\",\n",
       "                      \"metric_domain_kwargs\": \"$domain.domain_kwargs\"\n",
       "                    }\n",
       "                  ],\n",
       "                  \"strict_max\": \"$variables.strict_max\",\n",
       "                  \"class_name\": \"DefaultExpectationConfigurationBuilder\",\n",
       "                  \"condition\": null,\n",
       "                  \"column\": \"$domain.domain_kwargs.column\",\n",
       "                  \"min_value\": \"$parameter.column_min_range_estimator.value[0]\",\n",
       "                  \"mostly\": \"$variables.mostly\",\n",
       "                  \"max_value\": \"$parameter.column_max_range_estimator.value[1]\",\n",
       "                  \"meta\": {\n",
       "                    \"profiler_details\": {\n",
       "                      \"column_min_range_estimator\": \"$parameter.column_min_range_estimator.details\",\n",
       "                      \"column_max_range_estimator\": \"$parameter.column_max_range_estimator.details\"\n",
       "                    }\n",
       "                  },\n",
       "                  \"module_name\": \"great_expectations.rule_based_profiler.expectation_configuration_builder.default_expectation_configuration_builder\",\n",
       "                  \"strict_min\": \"$variables.strict_min\",\n",
       "                  \"expectation_type\": \"expect_column_values_to_be_between\"\n",
       "                }\n",
       "              ],\n",
       "              \"variables\": {\n",
       "                \"mostly\": 1.0,\n",
       "                \"strict_min\": false,\n",
       "                \"strict_max\": false,\n",
       "                \"estimator\": \"exact\",\n",
       "                \"include_estimator_samples_histogram_in_details\": false,\n",
       "                \"truncate_values\": {\n",
       "                  \"lower_bound\": null,\n",
       "                  \"upper_bound\": null\n",
       "                },\n",
       "                \"round_decimals\": null\n",
       "              }\n",
       "            }\n",
       "          ]\n",
       "        }\n",
       "      }\n",
       "    }\n",
       "  ],\n",
       "  \"data_asset_type\": null,\n",
       "  \"meta\": {\n",
       "    \"great_expectations_version\": \"0.17.23\"\n",
       "  }\n",
       "}"
      ]
     },
     "execution_count": 7,
     "metadata": {},
     "output_type": "execute_result"
    }
   ],
   "source": [
    "# Expectation Suite\n",
    "validator.get_expectation_suite()"
   ]
  },
  {
   "cell_type": "code",
   "execution_count": 8,
   "metadata": {},
   "outputs": [
    {
     "data": {
      "application/vnd.jupyter.widget-view+json": {
       "model_id": "b4db42e8be5541479cc2a791b04a35d8",
       "version_major": 2,
       "version_minor": 0
      },
      "text/plain": [
       "Calculating Metrics:   0%|          | 0/15 [00:00<?, ?it/s]"
      ]
     },
     "metadata": {},
     "output_type": "display_data"
    }
   ],
   "source": [
    "# Checkpoint setup\n",
    "checkpoint = context.add_or_update_checkpoint(\n",
    "    name='my_quick_start',\n",
    "    validator=validator\n",
    ")\n",
    "\n",
    "# Validating\n",
    "checkpoint_result = checkpoint.run()"
   ]
  },
  {
   "cell_type": "code",
   "execution_count": null,
   "metadata": {},
   "outputs": [],
   "source": [
    "# View HTML\n",
    "context.view_validation_result(checkpoint_result)"
   ]
  }
 ],
 "metadata": {
  "kernelspec": {
   "display_name": ".venv",
   "language": "python",
   "name": "python3"
  },
  "language_info": {
   "codemirror_mode": {
    "name": "ipython",
    "version": 3
   },
   "file_extension": ".py",
   "mimetype": "text/x-python",
   "name": "python",
   "nbconvert_exporter": "python",
   "pygments_lexer": "ipython3",
   "version": "3.10.7"
  }
 },
 "nbformat": 4,
 "nbformat_minor": 2
}
